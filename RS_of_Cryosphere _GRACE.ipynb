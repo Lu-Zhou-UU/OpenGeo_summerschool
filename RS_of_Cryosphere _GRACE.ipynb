{
 "cells": [
  {
   "cell_type": "markdown",
   "id": "07289425-88f9-4479-a1a9-b7e521564d56",
   "metadata": {},
   "source": [
    "# 4. GRACE satellite application\n",
    "## Monitoring the evolution of the Antarctic Ice Sheet"
   ]
  },
  {
   "cell_type": "markdown",
   "id": "202eee8c-fac7-40f4-bcef-b7c07a609fa7",
   "metadata": {},
   "source": [
    "## Introduction\n",
    "\n",
    "The Antarctic Ice Sheet (AIS) is the largest block of ice on Earth. It is unique by its thickness, which averages 2 160 meters, and its surface of approximately 14 million square kilometers (an area larger than Europe), making it the biggest freshwater reservoir in the world. The ice sheet on the continent extends over the ocean and becomes ice shelf. This mass of ice plays a crucial role in the regulation of the Earth Climate, thanks to the relfective properties of the white ice covered areas surrounded by the dark sea surface, or the cold ocean surrounding the continent driving the oceaninc circulation around the globe. Its dynamics and evolution is a topic of significant concern for the scientific community.\n",
    "\n",
    "Antarctica is particularly sensible to climate change, although there is a large climate variability over the region. The continent lies at the crossroads of numerous forcings : the ozone hole, disturbances caused by tropical storms and moonsoons, and of course the increases of greenhous gases in the atmosphere. This makes the Antartic Ice Sheet highly dynamic: climate records from the Antartic Peninsula show that  temperatures in this region rose by around 3.2°C in the second half of the 20th century, which is more than three times the global average. West Antartica has been melting at an accelerating rate, while the data on East Antarctica is less clear. In the end, as many unknowns remain about the processes governing the region and its potential feedback responses to climate change, there are still many uncertainties in the future contribution of the melting of the AIS to sea-level rise. According to the Fifth Assessment Report (AR5) from the Intergovernmental Panel on Climate Change (IPCC), even in the most extreme emissions scenario where surface mass gains in the East Antarctic Ice Sheet (EAIS) compensate for projected ice mass loss, the Antarctic Ice Sheet (AIS) is projected to contribute only a modest -0.08 to 0.14 meters to global sea level rise by the year 2100 ([Church et al., 2013](https://www.ipcc.ch/site/assets/uploads/2018/02/WG1AR5_Chapter13_FINAL.pdf)). On the other hand, in a high-temperature scenario, the expert assessment conducted by [Bamber et al. (2019)](https://doi.org/10.1073/pnas.1817205116) estimated a likely range of 0.03 to 0.46 meters from the West Antarctic Ice Sheet (WAIS) and a range of -0.04 to 0.11 meters from the East Antarctic Ice Sheet (EAIS) for the year 2100. These estimates are expected to increase to a range of 0.07 to 2.28 meters (WAIS) and -0.14 to 0.51 meters (EAIS) by the year 2300.\n",
    "\n",
    "Monitoring the evolution of the AIS is therefore crucial to understand climate change and forecasts its future impacts across the globe. Measuring the mass of the Antarctic Ice sheet is however still a complex scientific task, and many methods exist including satellite altimetry, gravimetry, ice core analysis, ground-based GPS, airborne surveys, ice sheet models, etc.\n",
    "\n",
    "In this section, we are going to use the [Gravimetric mass balance data for the Antarctic and Greenland ice sheets from 2003 to 2020 derived from satellite observations](https://www.wekeo.eu/data?view=dataset&dataset=EO%3AECMWF%3ADAT%3ASATELLITE_ICE_SHEET_MASS_BALANCE) product. This dataset offers a comprehensive collection of monthly time series data depicting alterations in mass for the drainage basins of both the Antarctic and Greenland Ice Sheets. These data are sourced from NASA's Gravity Recovery and Climate Experiment (GRACE) and GRACE Follow-On (GRACE-FO) missions, which have been in operation since 2002 to the present day. These observations align with the targets established by the Global Climate Observing System for the Essential Climate Variable of Ice Sheets Mass Change. The GRACE twin satellites, through their monitoring of fluctuations in Earth's gravitational field, have allowed us to deduce changes in mass across the ice sheets using a regional integration approach. This dataset includes **time series data** illustrating **mass changes** for each individual ice sheet as well as for each specific drainage basin.\n",
    "\n",
    "| Parameter | Value |\n",
    "| :---: | :---|\n",
    "| **Variables used** | AntIS_xxx, AntIS_xxx_er,GrIS_xxx, GrIS_xxx_er |\n",
    "| **Product identifier** |[EO:ECMWF:DAT:SATELLITE_ICE_SHEET_MASS_BALANCE](https://www.wekeo.eu/data?view=dataset&dataset=EO%3AECMWF%3ADAT%3ASATELLITE_ICE_SHEET_MASS_BALANCE) |\n",
    "| **Temporal resolution** | Monthly averaged values |\n",
    "| **Temporal coverage** | December 2002 to December 2022 |\n",
    "\n",
    "\n",
    "<center>\n",
    "    <img src=\"Data/GRACE/GRACE_product.png\" width=\"300\">\n",
    "</center>\n",
    "\n",
    "You can also visit the [Copernicus page](https://cds.climate.copernicus.eu/cdsapp#!/dataset/satellite-ice-sheet-mass-balance?tab=overview) dedicated to the product to see more detail about the product and all the different variables that are available."
   ]
  },
  {
   "cell_type": "code",
   "execution_count": null,
   "id": "ee32290a-5b76-4a87-ad5c-b4b403e94a03",
   "metadata": {},
   "outputs": [],
   "source": [
    "!pip install hda xarray geopandas fiona netCDF4 h5netcdf scipy"
   ]
  },
  {
   "cell_type": "code",
   "execution_count": null,
   "id": "12656c3f-b2e8-4925-b6be-3d87ae1d02e7",
   "metadata": {},
   "outputs": [],
   "source": [
    "# Modules system\n",
    "import warnings\n",
    "warnings.filterwarnings('ignore')\n",
    "import getpass\n",
    "import os\n",
    "from pathlib import Path\n",
    "\n",
    "# Modules related to data retrieving\n",
    "from hda import Client\n",
    "import json\n",
    "\n",
    "# Modules related to plot and EO data manipulation\n",
    "import numpy as np\n",
    "import xarray as xr\n",
    "import matplotlib.pyplot as plt\n",
    "from matplotlib.colors import LogNorm\n",
    "import cartopy.crs as ccrs\n",
    "import cartopy.feature as cfeature\n",
    "import pandas as pd\n",
    "import geopandas as gpd\n",
    "from shapely.geometry import box, Polygon, MultiPolygon\n",
    "from fiona.crs import from_epsg\n",
    "from rasterio.mask import mask"
   ]
  },
  {
   "cell_type": "code",
   "execution_count": null,
   "id": "e58d3d4a-d8a2-4284-bac8-d7a8c237ba96",
   "metadata": {},
   "outputs": [],
   "source": [
    "# Try netCDF4 engine\n",
    "try:\n",
    "    dsi = xr.open_dataset('Data/GRACE/C3S_GMB_GRACE_vers4.nc', engine='netcdf4')\n",
    "    print(\"Success with netCDF4 engine\")\n",
    "except Exception as e:\n",
    "    print(\"netCDF4 failed:\", e)\n",
    "\n",
    "# Try h5netcdf engine  \n",
    "try:\n",
    "    dsi = xr.open_dataset('Data/GRACE/C3S_GMB_GRACE_vers4.nc', engine='h5netcdf')\n",
    "    print(\"Success with h5netcdf engine\")\n",
    "except Exception as e:\n",
    "    print(\"h5netcdf failed:\", e)"
   ]
  },
  {
   "cell_type": "code",
   "execution_count": null,
   "id": "a460d5ce-5da3-477d-b2de-38c41165d5c6",
   "metadata": {},
   "outputs": [],
   "source": [
    "dsi = xr.open_dataset('Data/GRACE/C3S_GMB_GRACE_vers4.nc')\n",
    "dsi"
   ]
  },
  {
   "cell_type": "code",
   "execution_count": null,
   "id": "5fcf7354-46a1-422a-ab12-44c6a9626c06",
   "metadata": {},
   "outputs": [],
   "source": [
    "# re-generating the dataset at a convenient format\n",
    "ds = xr.Dataset(coords=dict(time=dsi.time),attrs=dsi.attrs)"
   ]
  },
  {
   "cell_type": "code",
   "execution_count": null,
   "id": "10a58670-c2ec-4339-b756-86b9b30caf20",
   "metadata": {},
   "outputs": [],
   "source": [
    "for basin_nb in range(1,9):\n",
    "    name = \"GrIS_%d\" % basin_nb\n",
    "    ds[name] = dsi[name]\n",
    "    ds[name+\"_er\"] = dsi[name+\"_er\"]\n",
    "\n",
    "ds['GrIS_total'] = dsi['GrIS_total']\n",
    "ds['GrIS_total_er'] = dsi['GrIS_total_er']\n",
    "\n",
    "# resampling to have a regular time scale and filling holes with interpolation\n",
    "ds = ds.resample(time='1M').mean().interpolate_na(dim='time')\n",
    "\n",
    "ds['GrIS_total_er']"
   ]
  },
  {
   "cell_type": "code",
   "execution_count": null,
   "id": "91c4f417-d00d-498c-8ce9-55bf4b32709b",
   "metadata": {},
   "outputs": [],
   "source": [
    "# Check the date times included in the file\n",
    "ds['time']\n",
    "# If you know the exact date\n",
    "ds.sel(time='2014-06')\n",
    "# If you don't know the exact date and want to take the nearest one\n",
    "ds.sel(time='2014-06-05', method='nearest')\n",
    "# If you want to select a date from its index\n",
    "ds.isel(time=[3])\n",
    "# If you want to select a range of dates\n",
    "# Here, let's for example select the first semester of 2015\n",
    "\n",
    "ds.sel(time=slice('2015-01-01','2015-06-30'))"
   ]
  },
  {
   "cell_type": "code",
   "execution_count": null,
   "id": "3a81b878-4bfa-4bdb-ade2-7995ac96cd13",
   "metadata": {},
   "outputs": [],
   "source": [
    "fig,ax=plt.subplots(figsize=(12,6))\n",
    "\n",
    "dates = ds.time.astype('datetime64')\n",
    "vals = ds.GrIS_total.data\n",
    "er = ds.GrIS_total_er.data\n",
    "\n",
    "ax.plot(dates,vals,color='k')\n",
    "ax.fill_between(dates,vals-er,vals+er,facecolor='k',alpha=0.5)\n",
    "ax.grid(True)\n",
    "ax.set_ylabel('Gt')\n",
    "ax.set_xlabel('year')\n",
    "ax.set_title('Greenland Ice sheet anomaly over 2002-2022')"
   ]
  },
  {
   "cell_type": "markdown",
   "id": "c84d5a25-0af1-4767-950d-74e940a8c758",
   "metadata": {},
   "source": [
    "As expected, we see that the total mass of the Greenland Ice Sheet has been decreasing for the past twenty years, and that there is also a seasonal pattern in the ice mass change. In the next sections we will look at the phenomenon in more detail. For now we can see in the product that there are Ice Mass Balance time series for the whole region in Greenland.\n",
    "\n",
    "Before looking at the changes in these regions, let's smooth the seasonal Ice Mass variations by performing a yearly resampling of the data. We will do that only over the full years of data, so from 2003 to 2022."
   ]
  },
  {
   "cell_type": "code",
   "execution_count": null,
   "id": "bd5cd3ad-c51d-46d4-8fbf-4eddf624114f",
   "metadata": {},
   "outputs": [],
   "source": [
    "ds_y = ds.resample(time='1Y').mean().sel(time=slice('2003','2022'))\n",
    "ds_y"
   ]
  },
  {
   "cell_type": "code",
   "execution_count": null,
   "id": "a4c16fc8-ddc2-480d-815b-29848e4c13f6",
   "metadata": {},
   "outputs": [],
   "source": [
    "# cumulative change\n",
    "\n",
    "fig, ax = plt.subplots()\n",
    "\n",
    "dates = ds_y.time.astype('datetime64')\n",
    "\n",
    "vals_Greenland = ds_y.GrIS_total.data - ds_y.GrIS_total.isel(time=[0]).item()\n",
    "er_p = ds_y.GrIS_total_er.data\n",
    "\n",
    "ax.plot(dates, vals_Greenland, color='y', label='Greenland')\n",
    "ax.fill_between(dates, vals_Greenland-er_p, vals_Greenland+er_p, facecolor='y', alpha=0.5)\n",
    "\n",
    "ax.set_title(\"Total Ice Mass evolution since 2003\")\n",
    "ax.set_ylabel('Gt')\n",
    "ax.legend()\n",
    "ax.grid(True)"
   ]
  },
  {
   "cell_type": "markdown",
   "id": "e2c46f59-45b8-4c75-ba03-18fa4cb4d67b",
   "metadata": {},
   "source": [
    "## 2. Ice Sheet Mass Change over the Greenland's drainage basins\n",
    "\n",
    "Our dataset provides timeseries for 8 different Greenland drainage basins, but how are they distributed over the continent ? Let's have another look at the **initial dataset**, it has a variable related to Greenland that is not an ice mass change timeseries. It is the variable `GrBasin`. Let's quickly display the values. Remember that you can always check the product's [documentation](https://cds.climate.copernicus.eu/cdsapp#!/dataset/satellite-ice-sheet-mass-balance?tab=doc) to know more about the variables."
   ]
  },
  {
   "cell_type": "code",
   "execution_count": null,
   "id": "99705fd3-8a90-475c-8059-9a101b2b797d",
   "metadata": {},
   "outputs": [],
   "source": [
    "dsi['GrISBasin'].data"
   ]
  },
  {
   "cell_type": "markdown",
   "id": "9bd632bf-31f5-4fde-81c9-e006ade9910b",
   "metadata": {},
   "source": [
    "### 2.1. Computing the polygons\n",
    "\n",
    "The `GrISBasin` is indeed not a time series, it contains geographic information. It defines the contours of each Greenland drainage basin (as defined by [Zwally et al](https://earth.gsfc.nasa.gov/cryo/data/polar-altimetry/antarctic-and-greenland-drainage-systems)) : each line in the table gives a **latitude**, a **longitude**, and the corresponding **basin number**. In the next cell we derive the 8 polygons from the coordinates given in the variable. This may take some time to execute !"
   ]
  },
  {
   "cell_type": "code",
   "execution_count": null,
   "id": "1a8a2a6d-e759-4b09-b609-cdd2ac312adf",
   "metadata": {},
   "outputs": [],
   "source": [
    "dsi['GrISBasin'].data.shape\n",
    "\n",
    "# creating polygons from coordinates:\n",
    "\n",
    "# creating 8 empty list\n",
    "basin_list = [[]for _ in range(8)]\n",
    "for i in range(dsi['GrISBasin'].data.shape[0]):\n",
    "    # filling each list with the corresponding basin coordinates\n",
    "    basin_list[int(dsi['GrISBasin'].data[i,2]-1)].append(list(np.flip(dsi['GrISBasin'].data[i,:][0:2])))"
   ]
  },
  {
   "cell_type": "code",
   "execution_count": null,
   "id": "e5cf5be0-7fe7-4119-b80d-112368beca48",
   "metadata": {},
   "outputs": [],
   "source": [
    "# computing polygons with geopandas\n",
    "polygon_geom = []\n",
    "for basin in range(len(basin_list)):\n",
    "        polygon_geom.append(Polygon(basin_list[basin]))\n",
    "\n",
    "## You might need this in Antarctic Ice Sheet Mass Balance changes\n",
    "# polygon_geom = []\n",
    "# for basin in range(len(basin_list)):\n",
    "#     if basin == 16: \n",
    "#         # basin N°17 crosses the -180°/180° Longitude line.\n",
    "#         # so this one will be split in two to have a coherent visualisation\n",
    "#         poly1 = Polygon(basin_list[basin][39437:])\n",
    "#         poly2 = Polygon(basin_list[basin][:39437])\n",
    "\n",
    "#         multi_polygon = MultiPolygon([poly1, poly2])\n",
    "#         polygon_geom.append(multi_polygon)\n",
    "#     else:\n",
    "#         polygon_geom.append(Polygon(basin_list[basin]))\n",
    "\n",
    "\n",
    "gdf = gpd.GeoDataFrame(index=range(1,9), crs='epsg:3857', geometry=polygon_geom)\n",
    "gdf['basin_nb'] = range(1,9)\n",
    "\n",
    "# coordinates of polygon representative points for annotations\n",
    "gdf['coords'] = gdf['geometry'].apply(lambda x: x.representative_point().coords[:])\n",
    "gdf['coords'] = [coords[0] for coords in gdf['coords']]\n"
   ]
  },
  {
   "cell_type": "code",
   "execution_count": null,
   "id": "0e8b418f-8ffe-4dbd-b879-f676f9a42664",
   "metadata": {},
   "outputs": [],
   "source": [
    "# the \".head()\" method only displays the first 5 elements of the table, for better readability.\n",
    "gdf.head()"
   ]
  },
  {
   "cell_type": "code",
   "execution_count": null,
   "id": "80e3f5d6-b67e-4235-a23f-bf0fe9712948",
   "metadata": {},
   "outputs": [],
   "source": [
    "# delimit the area of interest around Greenland\n",
    "\n",
    "LAT_MIN = 58\n",
    "LAT_MAX = 85\n",
    "LON_MIN = -90\n",
    "LON_MAX = 0\n",
    "LAT_CENTRAL = 70\n",
    "LON_CENTRAL = -45"
   ]
  },
  {
   "cell_type": "code",
   "execution_count": null,
   "id": "a40fcac2-5bd8-4173-b0c5-7eac2a4a11be",
   "metadata": {},
   "outputs": [],
   "source": [
    "# Define the caracteristics of the plot\n",
    "f = plt.figure(figsize=(7, 7))                                                    # create a figure and define its size\n",
    "ax = plt.axes(projection=ccrs.NearsidePerspective(central_longitude=LON_CENTRAL, central_latitude=LAT_CENTRAL))\n",
    "\n",
    "## This command could be used to plot the Antarctic map\n",
    "# ax = plt.axes(projection=ccrs.SouthPolarStereo())    # create an ax and select the projection of the map\n",
    "\n",
    "ax.coastlines()                                                                    # add the coastlines\n",
    "gl = ax.gridlines(draw_labels=True)                        # add the longitude / latitude lines\n",
    "gl.right_labels = False                                                            # remove latitude labels on the right\n",
    "gl.top_labels = False                                                              # remove longitude labels on the top\n",
    "ax.add_feature(cfeature.LAND, zorder=1, edgecolor='k')                             # add land mask\n",
    "ax.set_extent([LON_MIN, LON_MAX, LAT_MIN, LAT_MAX],crs=ccrs.PlateCarree())         # define the extent of the map [lon_min,lon_max,lat_min,lat_max]\n",
    "\n",
    "# Plot the sea total precipitation, set the min/max values of the colorbar and the colormap to use\n",
    "im = gdf.plot(ax=ax, transform=ccrs.PlateCarree(),  edgecolor='b', facecolor='w', linewidth=0.5)\n",
    "# Add the titles and legend\n",
    "ax.set_title(\"First look at the Greenland Basins GeoDataFrame\")\n",
    "\n",
    "for idx, row in gdf.iterrows():\n",
    "    plt.annotate(text=row['basin_nb'], xy=row['coords'],\n",
    "                 horizontalalignment='center', transform=ccrs.PlateCarree(), color='grey', fontsize=8)\n",
    "    \n",
    "# Save figure\n",
    "# plt.savefig('Greenland_GDF.png')"
   ]
  },
  {
   "cell_type": "markdown",
   "id": "f6574998-7198-4147-ba44-8616a4b230cd",
   "metadata": {},
   "source": [
    "### 2.2. Calculating trends and visualising Mass Change rate\n",
    "\n",
    "The GRACE and GRACE-FO gravimetric products are particulary useful to calculate mass changes rates over long periods. We are going to perform linear regressions of the mass changes for each basins to see the spatial distribution of the ice mass change rates over the continent."
   ]
  },
  {
   "cell_type": "code",
   "execution_count": null,
   "id": "17460608-cc41-4142-9919-fc3b14d18bb0",
   "metadata": {},
   "outputs": [],
   "source": [
    "# trend calculation:\n",
    "\n",
    "# to ease trend calculation: manually specifying years\n",
    "time = np.arange(2003,2023)\n",
    "vals = ds_y['GrIS_6'].data ## take Basin 6 as an example\n",
    "\n",
    "slope,intercept = np.polyfit(time.reshape(-1,1).flatten(),vals,1)\n",
    "slope"
   ]
  },
  {
   "cell_type": "code",
   "execution_count": null,
   "id": "f726e8c8-e5ed-4a66-bc8b-3e51e561c53e",
   "metadata": {},
   "outputs": [],
   "source": [
    "fig,ax = plt.subplots(figsize=(10,8))\n",
    "ax.plot(time,vals,color='k')\n",
    "\n",
    "# plot trend\n",
    "ax.plot(time,slope*time+intercept,color='r',linestyle=':')\n",
    "ax.grid(True)\n",
    "ax.set_xticks([2000,2005,2010,2015,2020,2025])\n",
    "\n",
    "ax.set_ylabel(\"Gt\")\n",
    "ax.set_xlabel(\"time\")\n",
    "\n",
    "ax.set_title(\"Example: Basin N°6 \\nMass change rate: %.1f $Gt.y^{-1}$\" %slope)"
   ]
  },
  {
   "cell_type": "code",
   "execution_count": null,
   "id": "305498b2-00f1-4bd4-b394-0117212c5297",
   "metadata": {},
   "outputs": [],
   "source": [
    "# Now calculate for each basin\n",
    "slope_list = []\n",
    "\n",
    "for basin_label in range(1,9):\n",
    "    vals = ds_y[\"GrIS_%d\" % basin_label].data\n",
    "    slope,intercept = np.polyfit(time.reshape(-1,1).flatten(),vals,1)\n",
    "    slope_list.append(slope)\n",
    "\n",
    "gdf['yearly_mass_change_rate'] = slope_list"
   ]
  },
  {
   "cell_type": "code",
   "execution_count": null,
   "id": "2d2febc1-fea2-454e-8623-35bfed02a272",
   "metadata": {},
   "outputs": [],
   "source": [
    "gdf.head()"
   ]
  },
  {
   "cell_type": "code",
   "execution_count": null,
   "id": "880db873-144e-4185-8baa-7068a2e1d9ec",
   "metadata": {},
   "outputs": [],
   "source": [
    "# Define the caracteristics of the plot\n",
    "f = plt.figure(figsize=(10, 10))                                                    # create a figure and define its size\n",
    "## For Antarctic \n",
    "## ax = plt.axes(projection=ccrs.SouthPolarStereo())                                       # create an ax and select the projection of the map\n",
    "ax = plt.axes(projection=ccrs.NearsidePerspective(central_longitude=LON_CENTRAL, central_latitude=LAT_CENTRAL))\n",
    "ax.coastlines()                                                                    # add the coastlines\n",
    "gl = ax.gridlines(draw_labels=True)                        # add the longitude / latitude lines\n",
    "gl.right_labels = False                                                            # remove latitude labels on the right\n",
    "gl.top_labels = False                                                              # remove longitude labels on the top\n",
    "ax.add_feature(cfeature.LAND, zorder=1, edgecolor='k')                             # add land mask\n",
    "ax.set_extent([LON_MIN, LON_MAX, LAT_MIN, LAT_MAX],crs=ccrs.PlateCarree())         # define the extent of the map [lon_min,lon_max,lat_min,lat_max]\n",
    "\n",
    "# Plot the sea total precipitation, set the min/max values of the colorbar and the colormap to use\n",
    "im = gdf.plot(ax=ax, column='yearly_mass_change_rate', transform=ccrs.PlateCarree(), cmap='bwr_r', legend=True, vmin=-50, vmax=50, edgecolor='white', linewidth=0.5)\n",
    "# Add the titles and legend\n",
    "ax.set_title(\"Yearly Rate of Mass Change of the Greenland Ice Shelf\\nin $Gt.y^{-1}$\")\n",
    "\n",
    "for idx, row in gdf.iterrows():\n",
    "    plt.annotate(text=row['basin_nb'], xy=row['coords'],\n",
    "                 horizontalalignment='center', transform=ccrs.PlateCarree(), color='grey', fontsize=8)\n",
    "    \n",
    "# Save figure\n",
    "# plt.savefig('GMB_rate.png')"
   ]
  },
  {
   "cell_type": "markdown",
   "id": "99024454-324e-4bc0-a8e1-5d77528964c9",
   "metadata": {},
   "source": [
    "### 2.3. Analysing change rate acceleration\n",
    "\n",
    "It is now clear that the drainage basins have very verying dynamics : most of West Greenland suffers from very fast ice loss, whereas Basin 2 shows basins that are actually no obviously trend over ice.\n",
    "\n",
    "To deepen the analysis, we are now going to derive the timeseries in order to look at the trends followed by the ice mass change rates themselves. We can refer to those trends as the mass change acceleration."
   ]
  },
  {
   "cell_type": "code",
   "execution_count": null,
   "id": "a9746ac3-3e89-436d-8c30-a7dcd7c6a739",
   "metadata": {},
   "outputs": [],
   "source": [
    "# same analysis, but with the derivative !\n",
    "\n",
    "time = np.arange(2003, 2023)\n",
    "slope_list = []\n",
    "\n",
    "for basin_label in range(1,9):\n",
    "    vals = np.gradient(ds_y[\"GrIS_%d\" % basin_label].data)\n",
    "    slope,intercept = np.polyfit(time.reshape(-1,1).flatten(),vals,1)\n",
    "    slope_list.append(slope)\n",
    "\n",
    "gdf['yearly_mass_change_acc'] = slope_list\n",
    "gdf.head()"
   ]
  },
  {
   "cell_type": "code",
   "execution_count": null,
   "id": "7987ee94-1ae6-4029-9361-fb7581c3259d",
   "metadata": {},
   "outputs": [],
   "source": [
    "# Define the caracteristics of the plot\n",
    "f = plt.figure(figsize=(10, 10))                                                    # create a figure and define its size\n",
    "## For Antarctic \n",
    "# ax = plt.axes(projection=ccrs.SouthPolarStereo())                                       # create an ax and select the projection of the map\n",
    "ax = plt.axes(projection=ccrs.NearsidePerspective(central_longitude=LON_CENTRAL, central_latitude=LAT_CENTRAL))\n",
    "ax.coastlines()                                                                    # add the coastlines\n",
    "gl = ax.gridlines(draw_labels=True)                        # add the longitude / latitude lines\n",
    "gl.right_labels = False                                                            # remove latitude labels on the right\n",
    "gl.top_labels = False                                                              # remove longitude labels on the top\n",
    "ax.add_feature(cfeature.LAND, zorder=1, edgecolor='k')                             # add land mask\n",
    "ax.set_extent([LON_MIN, LON_MAX, LAT_MIN, LAT_MAX],crs=ccrs.PlateCarree())         # define the extent of the map [lon_min,lon_max,lat_min,lat_max]\n",
    "\n",
    "# Plot the sea total precipitation, set the min/max values of the colorbar and the colormap to use\n",
    "im = gdf.plot(ax=ax, column='yearly_mass_change_acc', transform=ccrs.PlateCarree(), cmap='seismic_r', legend=True, vmin=-5, vmax=5, edgecolor='white', linewidth=0.5)\n",
    "# Add the titles and legend\n",
    "ax.set_title(\"Yearly Acceleration of Mass Change of the Greenland Ice Shelf\\nin $Gt.y^{-2}$\")\n",
    "\n",
    "for idx, row in gdf.iterrows():\n",
    "    plt.annotate(text=row['basin_nb'], xy=row['coords'],\n",
    "                 horizontalalignment='center', transform=ccrs.PlateCarree(), color='grey', fontsize=8)\n",
    "    \n",
    "# Save figure\n",
    "# plt.savefig('GMB_acc.png')"
   ]
  },
  {
   "cell_type": "markdown",
   "id": "5232cc33-32ea-4594-9a94-65d0f96b9a22",
   "metadata": {},
   "source": [
    "We can see that the spatial variability of the ice mass change rates and the ice mass change accelerations are very different. For many of the basins that are loss ice mass (ex: basins N°8, 7, 1 ), the pace is actually slowing down over the years. Therefore, assuming the ice change rate keeps following a near-linear trend, there is a possiblity that some time in the future the ice change rate becomes negative and the drainage basins starts losing ice.\n",
    "\n",
    "On the other hand, the basins in East Greenland that are already losing ice seem to follow an accelerating trend (ex: basins N°3), showing that East Greenland is definitely the most fragile side of the Greenland ice Sheet.\n",
    "\n",
    "### 2.4. Making an animation\n",
    "\n",
    "Now that we have learnt how to perform plots of the Greenland Ice Sheet, we can conclude this section by making an animation of its evolution."
   ]
  },
  {
   "cell_type": "code",
   "execution_count": null,
   "id": "4f17bf24-0929-4d47-92b8-a32d4f777627",
   "metadata": {},
   "outputs": [],
   "source": [
    "# preparing the geodataframe\n",
    "ds_2y = ds_y.resample(time='2Y').mean()\n",
    "ds_2y.time.data"
   ]
  },
  {
   "cell_type": "code",
   "execution_count": null,
   "id": "ee8febfd-2d79-4696-96d0-f90cb0f935d6",
   "metadata": {},
   "outputs": [],
   "source": [
    "for c,date in enumerate(ds_2y.time.data):\n",
    "    gdf[str(date.astype(\"datetime64[Y]\").astype(int)+1970)] = [ds_2y['GrIS_%d' % basin_nb].isel(time=[c]).item() - ds_2y['GrIS_%d' % basin_nb].isel(time=[0]).item() for basin_nb in range(1,9)]\n",
    "\n",
    "gdf.head()"
   ]
  },
  {
   "cell_type": "code",
   "execution_count": null,
   "id": "03c1803a-3746-4d07-b526-fddfe89f40a3",
   "metadata": {},
   "outputs": [],
   "source": [
    "dates = ds_2y.time.astype(\"datetime64\")\n",
    "dates"
   ]
  },
  {
   "cell_type": "code",
   "execution_count": null,
   "id": "7a9c595f-c12e-43ae-95a7-f156ca9cbb7a",
   "metadata": {},
   "outputs": [],
   "source": [
    "for c,date in enumerate(ds_2y.time.data):\n",
    "    f = plt.figure(figsize=(12,8))\n",
    "    ax1 = plt.subplot(121)\n",
    "    ax1.set_aspect(3)\n",
    "\n",
    "    vals = (ds_2y.GrIS_total - ds_2y.GrIS_total.isel(time=[0]).item()).data\n",
    "\n",
    "    ax1.plot(dates,vals,color='k')\n",
    "    ax1.scatter(dates[c],vals[c],color='k')\n",
    "    ax1.grid(True)\n",
    "\n",
    "    ax1.set_ylabel(\"Gt\")\n",
    "    ax1.set_title(\"Evolution of Total Greenland Ice Sheet \\n%d\" %(date.astype('datetime64[Y]').astype(int)+1970))\n",
    "\n",
    "    ## For Antarctic\n",
    "    # ax2 = plt.subplot(122, projection=ccrs.SouthPolarStereo())\n",
    "    ax2 = plt.subplot(122,projection=ccrs.NearsidePerspective(central_longitude=LON_CENTRAL, central_latitude=LAT_CENTRAL))\n",
    "    ax2.coastlines()                                                                    # add the coastlines\n",
    "    gl = ax2.gridlines(draw_labels=True)                        # add the longitude / latitude lines\n",
    "    gl.right_labels = False                                                            # remove latitude labels on the right\n",
    "    gl.top_labels = False                                                              # remove longitude labels on the top\n",
    "    ax2.add_feature(cfeature.LAND, zorder=1, edgecolor='k')                             # add land mask\n",
    "    ax2.set_extent([LON_MIN, LON_MAX, LAT_MIN, LAT_MAX],crs=ccrs.PlateCarree())         # define the extent of the map [lon_min,lon_max,lat_min,lat_max]\n",
    "\n",
    "    # Plot the sea total precipitation, set the min/max values of the colorbar and the colormap to use\n",
    "    im = gdf.plot(ax=ax2, column=str(date.astype('datetime64[Y]').astype(int)+1970), transform=ccrs.PlateCarree(), legend=True, cmap='bwr_r',vmin=-800, vmax=800, edgecolor='white', linewidth=0.5)\n",
    "    # Add the titles and legend\n",
    "    ax2.set_title(\"Mass Change of the Greenland Ice Shelf\\n since 2003 in $Gt$\")\n",
    "\n",
    "    # Save figure\n",
    "    plt.savefig('Data/GRACE/figs/evol_anim_%s.png' % str(c).zfill(2))\n",
    "    print(\"Figure for {} generated\".format(date))                 # print a message when a figure is generated\n",
    "    plt.close()       "
   ]
  },
  {
   "cell_type": "code",
   "execution_count": null,
   "id": "bda73f53-cd83-4274-b0a6-16599bf9841e",
   "metadata": {},
   "outputs": [],
   "source": [
    "! pip install imageio\n",
    "# Import the modules for the animation\n",
    "import imageio\n",
    "from pathlib import Path\n",
    "from IPython.display import Image\n",
    "\n",
    "# Search image files\n",
    "image_path = Path('Data/GRACE/figs')\n",
    "images = sorted(image_path.glob('evol_anim_*.png'))\n",
    "image_list = []\n",
    "for file_name in images:\n",
    "    image_list.append(imageio.imread(file_name))\n",
    "    \n",
    "# Save the GIF\n",
    "imageio.mimwrite('Data/GRACE/figs/animated_antartic.gif',image_list, duration=1000, loop=10)\n",
    "\n",
    "# Visualisation\n",
    "with open('Data/GRACE/figs/animated_antartic.gif','rb') as f:\n",
    "    display(Image(data=f.read(),format='png'))"
   ]
  },
  {
   "cell_type": "code",
   "execution_count": null,
   "id": "3cbfb827-513e-4995-9497-59c8e9506b78",
   "metadata": {},
   "outputs": [],
   "source": []
  },
  {
   "cell_type": "markdown",
   "id": "831e7c36-68c4-44a6-9884-62def354ed58",
   "metadata": {},
   "source": [
    "## 3. Exploration: Correlation with sea Level evolution\n",
    "\n",
    "\n",
    "The melting of the Greenland Ice Sheet is known to drive the rise of the sea-level, we have also downloaded sea-level data over the same period to see how Ice mass change and sea level correlate.\n",
    "\n",
    "We are going to use the [Global Ocean Gridded L 4 Sea Surface Heights And Derived Variables Reprocessed 1993 Ongoing](https://www.wekeo.eu/data?view=dataset&dataset=EO%3AMO%3ADAT%3ASEALEVEL_GLO_PHY_L4_MY_008_047) product. This dataset offers altimeter satellite gridded Sea Level Anomalies (SLA) computed with respect to a twenty-year [1993, 2012] mean.\n",
    "\n",
    "\n",
    "| Parameter | Value |\n",
    "| :---: | :---|\n",
    "| **Variables used** | sla |\n",
    "| **Product identifier** |[EO:MO:DAT:SEALEVEL_GLO_PHY_L4_MY_008_047](https://www.wekeo.eu/data?view=dataset&dataset=EO%3AMO%3ADAT%3ASEALEVEL_GLO_PHY_L4_MY_008_047) |\n",
    "| **Spatial resolution** | 0.25° x 0.25° |\n",
    "| **Temporal resolution** | Monthly averaged values |\n",
    "| **Temporal coverage** | Feburary 1993 May 2023 |\n",
    "\n",
    "\n",
    "<center>\n",
    "    <img src=\"Data/GRACE/sla_wekeo_dataset.png\" width=\"150\">\n",
    "</center>\n",
    "\n",
    "You can also visit the [Copernicus Marine Service page](https://data.marine.copernicus.eu/product/SEALEVEL_GLO_PHY_L4_MY_008_047/description) dedicated to the product to see more detail about the product and all the different variables that are available."
   ]
  },
  {
   "cell_type": "code",
   "execution_count": null,
   "id": "57690635-d6a4-4901-a06d-44641da67203",
   "metadata": {},
   "outputs": [],
   "source": [
    "ds_s = xr.open_dataset(\"Data/GRACE/sea_level_Global_two_satellite_199302_202305.nc\")\n",
    "ds_s"
   ]
  },
  {
   "cell_type": "markdown",
   "id": "2637ba24-ae4d-4d1d-99d8-c28dd7f8c181",
   "metadata": {},
   "source": [
    "The sea level dataset is now almost operationnal ! Contrary to the ice mass dataset, this one contains spatial data, and we can see that it has longitude and latitude coordinates. One last thing we have to do to ease plotting is to convert the longitudes. In the dataset they range from 0° to 360°, whereas the preferred convention in matplotlib is to have longitudes ranging from -180° to 180°."
   ]
  },
  {
   "cell_type": "code",
   "execution_count": null,
   "id": "9a60170f-1efc-455c-9fd8-417b8a599776",
   "metadata": {},
   "outputs": [],
   "source": [
    "ds_s.coords[\"longitude\"] = (ds_s.coords[\"longitude\"]+180) % 360 -180\n",
    "ds_s = ds_s.sortby(ds_s.longitude)"
   ]
  },
  {
   "cell_type": "code",
   "execution_count": null,
   "id": "4476f248-d8e5-449a-99e6-23e3b8c8bf7c",
   "metadata": {},
   "outputs": [],
   "source": [
    "date_plot='2018-01'\n",
    "temp_map = ds_s['sla'].sel(time=date_plot).squeeze()\n",
    "\n",
    "# Define the caracteristics of the plot\n",
    "f = plt.figure(figsize=(20, 16))                                                   # create a figure and define its size\n",
    "ax = plt.axes(projection=ccrs.PlateCarree())                                       # create an ax and select the projection of the map\n",
    "ax.coastlines()                                                                    # add the coastlines\n",
    "gl = ax.gridlines(crs=ccrs.PlateCarree(), draw_labels=True)                        # add the longitude / latitude lines\n",
    "gl.right_labels = False                                                            # remove latitude labels on the right\n",
    "gl.top_labels = False                                                              # remove longitude labels on the top\n",
    "ax.add_feature(cfeature.LAND, zorder=1, edgecolor='k')                             # add land mask\n",
    "ax.set_extent([-180, 180, -90, 90],crs=ccrs.PlateCarree())                             # define the extent of the map [lon_min,lon_max,lat_min,lat_max]\n",
    "\n",
    "# Plot the sea surface temperature, set the min/max values of the colorbar and the colormap to use\n",
    "im = ax.pcolor(temp_map['longitude'].data, temp_map['latitude'].data, temp_map, vmin=1, vmax=-1, cmap='BrBG')\n",
    "    \n",
    "\n",
    "# Add the titles and legend\n",
    "ax.set_title('Sea Surface Level anomaly on {}\\n compared to 1993-2012 mean'.format(date_plot),fontsize=25)              # add a title to the figure\n",
    "cbar = f.colorbar(im,ax=ax,fraction=0.02, pad=0.02)                                            # add the colorbar\n",
    "cbar.set_label('m', rotation=270,fontsize=25, labelpad=25)                                    # add the title of the colorbar"
   ]
  },
  {
   "cell_type": "markdown",
   "id": "7ff30bb2-4884-4f22-af88-c88722aa32e8",
   "metadata": {},
   "source": [
    "It is possible to subset a spatial dataset just like a timeseries dataset. The only difference is that this time, instead of the *time* coordinate, the selection constraints are applied to the *longitude* and/or *latitude* coordinates. Here is an example with the `slice` method."
   ]
  },
  {
   "cell_type": "code",
   "execution_count": null,
   "id": "0b8df9d8-654d-4d51-99bd-5a48454528bb",
   "metadata": {},
   "outputs": [],
   "source": [
    "# Selecting only the Southern latitudes : \n",
    "# selecting only the years 2003 to 2020, for consistency with ice mass dataset\n",
    "ds_s_north = ds_s.sel(latitude=slice(50, 80)).sel(time=slice('2003', '2022'))\n",
    "ds_s_north"
   ]
  },
  {
   "cell_type": "code",
   "execution_count": null,
   "id": "c2a862cc-2eff-4d47-aba8-c55454754328",
   "metadata": {},
   "outputs": [],
   "source": [
    "# Correlation with Ice mass loss\n",
    "\n",
    "# yearly values\n",
    "ds_s_north_y = ds_s_north.resample(time='1Y').mean()\n",
    "ds_s_north_y"
   ]
  },
  {
   "cell_type": "markdown",
   "id": "6c51f5b7-cf66-4dc6-bc64-1787c40de106",
   "metadata": {},
   "source": [
    "Let's now calculate the correlation between the sea-level and the total Antarctic Ice-mass balance. We are going to use the **Pearson Coefficient**. It determines the linear correlation between two datasets. It varies between -1 and 1. A value of 1 implies that there is a perfectly linear relationship between the two distributions, and a value of -1 indicates a perfect inverse linear relationship. A value close to zero indicates that there is no linear pattern between the two datasets."
   ]
  },
  {
   "cell_type": "code",
   "execution_count": null,
   "id": "4baa381b-c11e-43fd-9b48-912e912eabc8",
   "metadata": {},
   "outputs": [],
   "source": [
    "# to ease  calculation: manually specifying years\n",
    "time = np.arange(2003, 2023)\n",
    "vals_ice = ds_y['GrIS_total'].data\n",
    "vals_sea = ds_s_north_y.mean(dim=['latitude', 'longitude'])['sla'].data\n",
    "\n",
    "vals_sea.shape"
   ]
  },
  {
   "cell_type": "code",
   "execution_count": null,
   "id": "6ba7a072-5054-4e1e-b9f9-46d9c01a00b7",
   "metadata": {},
   "outputs": [],
   "source": [
    "fig, ax = plt.subplots()\n",
    "ax.scatter(vals_ice, vals_sea)\n",
    "ax.grid(True)\n",
    "ax.set_title(\"Scatter plot of SLA vs Ice mass change over 2003-2023.\")\n",
    "ax.set_xlabel(\"AIS mass change (GT)\")\n",
    "ax.set_ylabel(\"SLA (m)\")\n",
    "\n",
    "# correlation calculation using scipy\n",
    "from scipy.stats import pearsonr\n",
    "corr, _ = pearsonr(vals_ice, vals_sea)\n",
    "\n",
    "print('Pearsons correlation: %.3f' % corr)"
   ]
  },
  {
   "cell_type": "markdown",
   "id": "f4af221c-52da-49e4-9075-d39e74ef3e7e",
   "metadata": {},
   "source": [
    "The Pearson coefficient of -0.793 indicates that there is a fairly strong inverse correlation between sea level and ice mass change. This makes sense, because as the ice melts (Ice mass change decreasing), the sea level increases. We can also see on the scatter plot that the points corresponding to the highest ice masses correspond to the lowest sea levels, and vice versa.\n",
    "\n",
    "However, how is the sea level spatially distributed ? Let's emulate the basins from the Antarctic dataset by creating several sectors over the Antarctic ocean. We will create regular sectors with a 20° longitudinal length, covering from -90° to -60° latitude\n",
    "\n",
    "For each sector, the sea levels will be spatially averaged, and the yearly trend computed."
   ]
  },
  {
   "cell_type": "code",
   "execution_count": null,
   "id": "7c19615e-bb66-4119-9e80-936c67351917",
   "metadata": {},
   "outputs": [],
   "source": [
    "# creating a dataframe with regular sectors:\n",
    "nb_sectors = 36\n",
    "lon_slices = np.linspace(-180, 180, nb_sectors+1)\n",
    "poly_list = []\n",
    "y_series_list = []\n",
    "trend_list = []\n",
    "centroid_list = []\n",
    "\n",
    "\n",
    "for i in range(nb_sectors):\n",
    "    poly_list.append(Polygon([[lon_slices[i],50], [lon_slices[i+1],50], [lon_slices[i+1],80], [lon_slices[i],80]]))\n",
    "    centroid_list.append((0.5*(lon_slices[i]+lon_slices[i+1]), 65)) # centroid for annotation\n",
    "    \n",
    "    tmp = ds_s_north_y.sel(longitude=slice(lon_slices[i], lon_slices[i+1]))\n",
    "    ts = tmp.mean(dim=['latitude', 'longitude'])['sla']    # spatially averaging sea level over the sector\n",
    "    y_series_list.append(ts.data)\n",
    "    \n",
    "    slope, intercept = np.polyfit(np.arange(len(ts.data)).reshape(-1,1).flatten(), ts.data, 1)   # computing yearly sea level trend\n",
    "    trend_list.append(slope*1000)    # conversion to mm/year\n",
    "    \n",
    "    \n",
    "\n",
    "gdf_sea = gpd.GeoDataFrame(index=range(nb_sectors), crs='epsg:3857', geometry=poly_list)\n",
    "gdf_sea['sea_level_timeseries'] = y_series_list\n",
    "gdf_sea['linear_trend_sea_level'] = trend_list\n",
    "gdf_sea['sector_nb'] = range(1, nb_sectors+1)\n",
    "\n",
    "gdf_sea['coords'] = centroid_list\n",
    "\n",
    "gdf_sea"
   ]
  },
  {
   "cell_type": "code",
   "execution_count": null,
   "id": "023d8ef8-2c85-4d1c-8f2e-2f9c9d55b541",
   "metadata": {},
   "outputs": [],
   "source": [
    "# Define the caracteristics of the plot\n",
    "f = plt.figure(figsize=(7, 7))                                                    # create a figure and define its size\n",
    "## Antarctic usage\n",
    "ax = plt.axes(projection=ccrs.NorthPolarStereo())                                       # create an ax and select the projection of the map\n",
    "# ax = plt.axes(projection=ccrs.NearsidePerspective(central_longitude=LON_CENTRAL, central_latitude=LAT_CENTRAL))\n",
    "ax.coastlines()                                                                    # add the coastlines\n",
    "gl = ax.gridlines(draw_labels=True)                        # add the longitude / latitude lines\n",
    "gl.right_labels = False                                                            # remove latitude labels on the right\n",
    "gl.top_labels = False                                                              # remove longitude labels on the top\n",
    "ax.add_feature(cfeature.LAND, zorder=2, edgecolor='k')                             # add land mask\n",
    "# ax.set_extent([LON_MIN, LON_MAX, LAT_MIN, LAT_MAX],crs=ccrs.PlateCarree())         # define the extent of the map [lon_min,lon_max,lat_min,lat_max]\n",
    "# ax.set_extent([LON_MIN, LON_MAX, LAT_MIN, LAT_MAX],crs=ccrs.PlateCarree())\n",
    "\n",
    "# Plot the sea total precipitation, set the min/max values of the colorbar and the colormap to use\n",
    "im = gdf_sea.plot(ax=ax, column='linear_trend_sea_level', transform=ccrs.PlateCarree(), cmap='BrBG', vmin=-3, vmax=3, edgecolor='k', linewidth=0.5, legend=True)\n",
    "# Add the titles and legend\n",
    "ax.set_title(\"Sea Level trends around the Greenland \\n between 2003-2023 in $mm.y^{-1}$\")\n",
    "\n",
    "# ## you can add this anotation over Antarctic\n",
    "# for idx, row in gdf_sea.iterrows():\n",
    "#     plt.annotate(text=row['sector_nb'], xy=row['coords'],\n",
    "#                  horizontalalignment='center', transform=ccrs.PlateCarree(), color='b', fontsize=8)\n",
    "    "
   ]
  },
  {
   "cell_type": "markdown",
   "id": "824de06d-6e68-4b30-9184-470194bb1c34",
   "metadata": {},
   "source": [
    "We can see that the sea levels also have strong spatial variability! Barents Sea and Fram Strait has a rising trend going up to 3 mm/year, but near West Antarctica!\n",
    "\n",
    "Areas with decreasing sea levels remain few and sparse (see below). On average, the global sea level is going up about **2 millimeters per year**. Monitoring the waters fluxes, from glaciers to ocean, from ocean to rain, and so on, remains crucial to understand climate change better, improve the predictions and develop adequate mitigation solutions.\n"
   ]
  },
  {
   "cell_type": "markdown",
   "id": "2bc3e4b6-c5d0-49ef-88c5-6fd6904c9e58",
   "metadata": {},
   "source": [
    "# Any take home message?"
   ]
  },
  {
   "cell_type": "code",
   "execution_count": null,
   "id": "4d88ae9f-0358-4a28-b69f-fa80bcadbc4f",
   "metadata": {},
   "outputs": [],
   "source": []
  },
  {
   "cell_type": "code",
   "execution_count": null,
   "id": "e3e1805a-59d1-4cd4-bf4f-54c67587a65f",
   "metadata": {},
   "outputs": [],
   "source": []
  }
 ],
 "metadata": {
  "kernelspec": {
   "display_name": "Python 3 (ipykernel)",
   "language": "python",
   "name": "python3"
  },
  "language_info": {
   "codemirror_mode": {
    "name": "ipython",
    "version": 3
   },
   "file_extension": ".py",
   "mimetype": "text/x-python",
   "name": "python",
   "nbconvert_exporter": "python",
   "pygments_lexer": "ipython3",
   "version": "3.11.13"
  }
 },
 "nbformat": 4,
 "nbformat_minor": 5
}
