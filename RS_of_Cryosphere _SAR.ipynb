{
 "cells": [
  {
   "cell_type": "markdown",
   "id": "bda6d2e9-5adb-41e8-a644-2e94d248963a",
   "metadata": {},
   "source": [
    "# 1. SAR Applications\n",
    "## Feature Tracking on Petermann Glacier using Sentinel-1 SAR Imagery\n",
    "\n",
    "Synthetic Aperture Radar (SAR) has become an invaluable tool for monitoring glacier dynamics in the Arctic and Antarctic, providing all-weather, day-and-night observations of ice motion. This tutorial demonstrates glacier velocity estimation using feature tracking techniques applied to Sentinel-1 SAR imagery.\n",
    "\n",
    "The example below focuses on Petermann Glacier, one of Greenland's largest outlet glaciers located in the northwest region. We'll track the movement of identifiable features between two Sentinel-1 SAR images acquired on February 26, 2020, and November 4, 2020—a time span of approximately 8.5 months.\n",
    "\n",
    "While operational glacier velocity mapping typically relies on speckle tracking (exploiting the coherent backscatter patterns inherent in SAR imagery), this tutorial uses visible surface features for tracking, which provides a more intuitive understanding of the underlying principles. The fundamental approach remains the same: identifying corresponding patterns or features between image pairs and calculating their displacement over time.\n",
    "\n",
    "Given the extended temporal separation between our image pair, any coherence between speckle patterns has been lost due to changes in surface properties, ice deformation, and environmental conditions. This makes visible feature tracking the preferred approach for this particular case, while also serving as an excellent pedagogical example of displacement tracking techniques in SAR glaciology."
   ]
  },
  {
   "cell_type": "code",
   "execution_count": null,
   "id": "588f4092-35d6-431f-8787-59fb3c802dfd",
   "metadata": {
    "scrolled": true
   },
   "outputs": [],
   "source": [
    "!pip install scikit-image numpy matplotlib"
   ]
  },
  {
   "cell_type": "code",
   "execution_count": null,
   "id": "4c7967a1-b936-4f29-9243-361ba2155a91",
   "metadata": {},
   "outputs": [],
   "source": [
    "import numpy as np\n",
    "import matplotlib.pyplot as plt\n",
    "from skimage.io import imread\n"
   ]
  },
  {
   "cell_type": "markdown",
   "id": "5a87fb23-1305-4bd3-aee0-30b2f3badf6f",
   "metadata": {},
   "source": [
    "First, we define a function which computes the cross correlation between the reference window (patch1) and a patch of similar size in the search window (patch2), following the formula in the lecture slides: \n",
    "\n",
    "\n",
    "$C C(i, j)=\\frac{\\sum_{k, l}\\left[s(i+k, j+l)-\\mu_s\\right]\\left[r(k, l)-\\mu_r\\right]}{\\sqrt{\\sum_{k, l}\\left[s(i+k, j+l)-\\mu_s\\right]^2 \\sum_{k, l}\\left[r(k, l)-\\mu_r\\right]^2}}$"
   ]
  },
  {
   "cell_type": "code",
   "execution_count": null,
   "id": "86c37141-61ea-4f43-bf6e-34529f3b5432",
   "metadata": {},
   "outputs": [],
   "source": [
    "\n",
    "def compute_normalized_cross_correlation(patch1, patch2):\n",
    "    # Subtract the mean from each patch\n",
    "    patch1_mean = np.mean(patch1)\n",
    "    patch2_mean = np.mean(patch2)\n",
    "    patch1_normalized = patch1 - patch1_mean\n",
    "    patch2_normalized = patch2 - patch2_mean\n",
    "\n",
    "    # Compute the cross-correlation\n",
    "    cross_correlation = np.sum(patch1_normalized * patch2_normalized)\n",
    "\n",
    "    # Compute the normalization factor\n",
    "    normalization_factor = np.sqrt(np.sum(patch1_normalized ** 2) * np.sum(patch2_normalized ** 2))\n",
    "\n",
    "    # Compute the normalized cross-correlation\n",
    "    normalized_cross_correlation = cross_correlation / normalization_factor\n",
    "    return normalized_cross_correlation"
   ]
  },
  {
   "cell_type": "markdown",
   "id": "693b017e-e97c-4318-a682-431e3ec1f13b",
   "metadata": {},
   "source": [
    "Now we load the images"
   ]
  },
  {
   "cell_type": "code",
   "execution_count": null,
   "id": "918ff938-c812-48a0-848a-3a0db4d72f3a",
   "metadata": {},
   "outputs": [],
   "source": [
    "# Read SAR images from TIF files\n",
    "image1 = imread('Data/SAR/S1A_IW_GRDH_1SDH_20200226_subset_TC.tif')\n",
    "image2 = imread('Data/SAR/S1A_IW_GRDH_1SDH_20201104_subset_TC.tif')"
   ]
  },
  {
   "cell_type": "markdown",
   "id": "3fd72de3-c281-4ad7-a862-cdb8290ec7b1",
   "metadata": {},
   "source": [
    "Here we define the reference window (small) and the seach window (large). "
   ]
  },
  {
   "cell_type": "code",
   "execution_count": null,
   "id": "9d0f8a81-8a20-47b0-8590-e82af2176d6f",
   "metadata": {},
   "outputs": [],
   "source": [
    "# Define window sizes\n",
    "n1 = 40  # small window size in image 1\n",
    "n2 = 500  # large window size in image 2\n",
    "\n",
    "# Define the coordinates for the center of the small window in image 1\n",
    "x1_center = 2526\n",
    "y1_center = 2234\n",
    "\n",
    "# Extract the small window in image 1\n",
    "x1_start = x1_center - n1 // 2\n",
    "x1_end = x1_start + n1\n",
    "y1_start = y1_center - n1 // 2\n",
    "y1_end = y1_start + n1\n",
    "patch1 = image1[x1_start:x1_end, y1_start:y1_end]\n",
    "\n",
    "# Define the larger window in image 2\n",
    "x2_center = x1_center\n",
    "y2_center = y1_center\n",
    "\n",
    "# Extract the larger window in image 2\n",
    "x2_start = x2_center - n2 // 2\n",
    "x2_end = x2_start + n2\n",
    "y2_start = y2_center - n2 // 2\n",
    "y2_end = y2_start + n2\n",
    "patch2 = image2[x2_start:x2_end, y2_start:y2_end]"
   ]
  },
  {
   "cell_type": "markdown",
   "id": "3f009e94-f2e8-4da3-bd26-e3591f649043",
   "metadata": {},
   "source": [
    "Next, we make a plot of the two SAR images, including the search and reference windows"
   ]
  },
  {
   "cell_type": "code",
   "execution_count": null,
   "id": "edd07e3d-e58b-4f85-963f-11ff2ca642b0",
   "metadata": {},
   "outputs": [],
   "source": [
    "# Plot the larger image 1 showing the entire scene\n",
    "plt.figure(figsize=(20, 20))\n",
    "plt.imshow(image1[1500:3500,1500:3500], cmap='gray',vmin=0,vmax=500)\n",
    "plt.title('(Image 1 - 26-02-2020)')\n",
    "plt.axis('on')\n",
    "# Add a box indicating the boundaries of the small window\n",
    "plt.gca().add_patch(plt.Rectangle((y1_start, x1_start), n1, n1, linewidth=2, edgecolor='r', facecolor='none'))\n",
    "\n",
    "# Plot the larger image 2 showing the entire scene\n",
    "plt.figure(figsize=(20, 20))\n",
    "plt.imshow(image2, cmap='gray',vmin=0,vmax=500)\n",
    "plt.title('(Image 2 - 04-11-2020)')\n",
    "plt.axis('on')\n",
    "# Add a box indicating the boundaries of the larger window\n",
    "plt.gca().add_patch(plt.Rectangle((y2_start, x2_start), n2, n2, linewidth=2, edgecolor='g', facecolor='none'))\n"
   ]
  },
  {
   "cell_type": "markdown",
   "id": "251c022a-c955-430d-ad79-1b31ffab4349",
   "metadata": {},
   "source": [
    "Now we compute the cross correlation of the reference window with all windows of a similar size in the search window."
   ]
  },
  {
   "cell_type": "code",
   "execution_count": null,
   "id": "105e2551-8655-4066-bfa2-f88a12aa0312",
   "metadata": {},
   "outputs": [],
   "source": [
    "# Compute cross-correlation of the small window with all possible subsets of size n1xn1 in the larger window\n",
    "cross_correlations = np.zeros((n2 - n1 + 1, n2 - n1 + 1))\n",
    "for i in range(n2 - n1 + 1):\n",
    "    for j in range(n2 - n1 + 1):\n",
    "        subset = patch2[i:i+n1, j:j+n1]\n",
    "        cross_correlations[n2 - n1  - i, j] = compute_normalized_cross_correlation(patch1, subset)\n",
    "\n",
    "# Find the maximum cross-correlation value and its location\n",
    "max_cross_correlation = np.max(cross_correlations)\n",
    "max_location = np.unravel_index(np.argmax(cross_correlations), cross_correlations.shape)"
   ]
  },
  {
   "cell_type": "markdown",
   "id": "a81a6f42-57c7-4954-942d-f385c8e182e9",
   "metadata": {},
   "source": [
    "Here, we plot the resulting cross correlation values"
   ]
  },
  {
   "cell_type": "code",
   "execution_count": null,
   "id": "4d314ac6-e8af-4142-aa5d-208a44ea12cd",
   "metadata": {},
   "outputs": [],
   "source": [
    "# Plot the cross-correlation values with a marker at the maximum value\n",
    "plt.imshow(cross_correlations, cmap='hot', origin='lower')\n",
    "plt.colorbar()\n",
    "plt.scatter(max_location[1], max_location[0], color='blue', marker='x', s=100, label='Maximum')\n",
    "plt.legend()\n",
    "plt.title('Cross-correlation')\n",
    "plt.xlabel('X')\n",
    "plt.ylabel('Y')\n",
    "plt.show()\n",
    "\n",
    "print(\"Maximum Cross-Correlation:\", max_cross_correlation)\n",
    "print(\"Maximum Cross-Correlation Location (x, y):\", max_location)"
   ]
  },
  {
   "cell_type": "markdown",
   "id": "4f658245-fb7f-4371-b2eb-92b9fb7d6f06",
   "metadata": {},
   "source": [
    "By computing the diffence between the center of the reference window and the location of maximum cross-correlation, we get the displacement in terms of pixels. By multiplying by the pixel size (10 m, in our case), we get the displacement in meters."
   ]
  },
  {
   "cell_type": "code",
   "execution_count": null,
   "id": "ac390d04-8fe9-4770-9de7-58a50283f647",
   "metadata": {},
   "outputs": [],
   "source": [
    "SAR_resolution=10\n",
    "np.sqrt((max_location[0]-(n2/2-n1/2))**2+(max_location[1]-(n2/2-n1/2))**2)*SAR_resolution"
   ]
  },
  {
   "cell_type": "code",
   "execution_count": null,
   "id": "3b372a30-4e0a-49f9-84ec-2b2d54b56f85",
   "metadata": {},
   "outputs": [],
   "source": [
    "dx = (max_location[0]-(n2/2-n1/2))*SAR_resolution\n",
    "dy = (max_location[1]-(n2/2-n1/2))*SAR_resolution\n",
    "print(dx,dy)"
   ]
  },
  {
   "cell_type": "code",
   "execution_count": null,
   "id": "342779e8-23ce-48e2-be8b-046b7f73063f",
   "metadata": {},
   "outputs": [],
   "source": [
    "# Plot the smaller image zoomed in on the location of the small window\n",
    "plt.figure(figsize=(20, 20))\n",
    "plt.imshow(image1, cmap='gray',vmin=0,vmax=500)\n",
    "plt.title('Window Image 1 - 26-02-2020')\n",
    "plt.axis('off')\n",
    "\n",
    "# Add a box indicating the boundaries of the larger window\n",
    "plt.gca().add_patch(plt.Rectangle((y2_start, x2_start), n2, n2, linewidth=2, edgecolor='g', facecolor='none'))\n",
    "# Add a box indicating the boundaries of the small window\n",
    "plt.gca().add_patch(plt.Rectangle((y1_start, x1_start), n1, n1, linewidth=2, edgecolor='r', facecolor='none'))\n",
    "\n",
    "# Adjust the plot limits to focus on the larger window\n",
    "plt.xlim(y2_start-100, y2_end+100)\n",
    "plt.ylim(x2_end+100, x2_start-100)\n",
    "\n",
    "# Plot the smaller image zoomed in on the location of the small window\n",
    "plt.figure(figsize=(20, 20))\n",
    "plt.imshow(image2, cmap='gray',vmin=0,vmax=500)\n",
    "plt.title('Window Image 2 - 04-11-2020')\n",
    "plt.axis('off')\n",
    "\n",
    "# Add a box indicating the boundaries of the larger window\n",
    "plt.gca().add_patch(plt.Rectangle((y2_start, x2_start), n2, n2, linewidth=2, edgecolor='g', facecolor='none'))\n",
    "# Add a box indicating the boundaries of the small window\n",
    "plt.gca().add_patch(plt.Rectangle((y1_start, x1_start), n1, n1, linewidth=2, edgecolor='r', facecolor='none'))\n",
    "\n",
    "\n",
    "# Adjust the plot limits to focus on the larger window\n",
    "plt.xlim(y2_start-100, y2_end+100)\n",
    "plt.ylim(x2_end+100, x2_start-100)\n",
    "\n",
    "\n",
    "# Display the plots\n",
    "plt.show()"
   ]
  },
  {
   "cell_type": "code",
   "execution_count": null,
   "id": "fc449070-7fa9-4836-be27-78b073260fbc",
   "metadata": {},
   "outputs": [],
   "source": []
  }
 ],
 "metadata": {
  "kernelspec": {
   "display_name": "Python 3 (ipykernel)",
   "language": "python",
   "name": "python3"
  },
  "language_info": {
   "codemirror_mode": {
    "name": "ipython",
    "version": 3
   },
   "file_extension": ".py",
   "mimetype": "text/x-python",
   "name": "python",
   "nbconvert_exporter": "python",
   "pygments_lexer": "ipython3",
   "version": "3.11.13"
  }
 },
 "nbformat": 4,
 "nbformat_minor": 5
}
